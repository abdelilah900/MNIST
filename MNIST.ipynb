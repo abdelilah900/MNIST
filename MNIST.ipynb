{
  "nbformat": 4,
  "nbformat_minor": 0,
  "metadata": {
    "colab": {
      "provenance": [],
      "collapsed_sections": []
    },
    "kernelspec": {
      "name": "python3",
      "display_name": "Python 3"
    },
    "accelerator": "GPU"
  },
  "cells": [
    {
      "cell_type": "code",
      "metadata": {
        "id": "NgIo7_iIhmnR"
      },
      "source": [
        "## Ecrit par Redouane Lguensat\n",
        "## pour Alfihrya Academy\n",
        "## Juin 2020"
      ],
      "execution_count": null,
      "outputs": []
    },
    {
      "cell_type": "markdown",
      "metadata": {
        "id": "C7xhMPPF4UFN"
      },
      "source": [
        "# Exercices (Cours Part1)"
      ]
    },
    {
      "cell_type": "markdown",
      "metadata": {
        "id": "bm0X7gA3hT-l"
      },
      "source": [
        "## First exercise\n",
        "<p dir=\"rtl\">\n",
        "تمرين 1\n",
        "</p>"
      ]
    },
    {
      "cell_type": "code",
      "metadata": {
        "id": "SaVQIxjRUevb"
      },
      "source": [
        "import numpy as np\n",
        "import math"
      ],
      "execution_count": null,
      "outputs": []
    },
    {
      "cell_type": "code",
      "metadata": {
        "id": "BHxHi3dFUhMM"
      },
      "source": [
        "def sigmoid(x):\n",
        "  return 1 / (1 + math.exp(-x))"
      ],
      "execution_count": null,
      "outputs": []
    },
    {
      "cell_type": "code",
      "metadata": {
        "id": "sYeWNgE2UpLa",
        "colab": {
          "base_uri": "https://localhost:8080/",
          "height": 34
        },
        "outputId": "45f75a3c-e7ae-4aaa-b146-fa600a18e244"
      },
      "source": [
        "sigmoid(0.55*0.5+(-0.35)*0.45+0.15)"
      ],
      "execution_count": null,
      "outputs": [
        {
          "output_type": "execute_result",
          "data": {
            "text/plain": [
              "0.5664790559676278"
            ]
          },
          "metadata": {
            "tags": []
          },
          "execution_count": 4
        }
      ]
    },
    {
      "cell_type": "markdown",
      "metadata": {
        "id": "k3x1_ZwLhY5E"
      },
      "source": [
        "## Second exercise\n",
        "<p dir=\"rtl\">\n",
        "تمرين 2\n",
        "</p>"
      ]
    },
    {
      "cell_type": "code",
      "metadata": {
        "id": "UgZum9w9haWD"
      },
      "source": [
        "from tensorflow.keras import Sequential\n",
        "from tensorflow.keras.layers import Dense"
      ],
      "execution_count": null,
      "outputs": []
    },
    {
      "cell_type": "markdown",
      "metadata": {
        "id": "oE5w4LRNFzwl"
      },
      "source": [
        "<p dir=\"rtl\">\n",
        "اجي نكتبو هاذ الشبكة العصبونية بKeras\n",
        "</p>\n",
        "\n",
        "\n",
        "![Texte alternatif…](https://cs231n.github.io/assets/nn1/neural_net2.jpeg)\n"
      ]
    },
    {
      "cell_type": "code",
      "metadata": {
        "id": "n1uKmqPphazV"
      },
      "source": [
        "model = Sequential()\n",
        "model.add(Dense(4, activation='relu', input_shape=(3,)))\n",
        "model.add(Dense(4, activation='relu'))\n",
        "model.add(Dense(1))"
      ],
      "execution_count": null,
      "outputs": []
    },
    {
      "cell_type": "markdown",
      "metadata": {
        "id": "hhtrXjLVGfYe"
      },
      "source": [
        "<p dir=\"rtl\">\n",
        "هاد الشبكة شحال فيها من  parameters؟\n",
        "</p>"
      ]
    },
    {
      "cell_type": "code",
      "metadata": {
        "id": "XSPJNpK1FUGQ",
        "colab": {
          "base_uri": "https://localhost:8080/",
          "height": 34
        },
        "outputId": "7e884600-ba1f-48f3-83e0-58d50a9a32cb"
      },
      "source": [
        "4*3+4+4*4+4+4*1+1"
      ],
      "execution_count": null,
      "outputs": [
        {
          "output_type": "execute_result",
          "data": {
            "text/plain": [
              "41"
            ]
          },
          "metadata": {
            "tags": []
          },
          "execution_count": 6
        }
      ]
    },
    {
      "cell_type": "code",
      "metadata": {
        "id": "DHmC99WiiOCp",
        "colab": {
          "base_uri": "https://localhost:8080/",
          "height": 252
        },
        "outputId": "a49431cf-bdf4-483e-a024-0cb53d2b6eb2"
      },
      "source": [
        "model.summary()"
      ],
      "execution_count": null,
      "outputs": [
        {
          "output_type": "stream",
          "text": [
            "Model: \"sequential\"\n",
            "_________________________________________________________________\n",
            "Layer (type)                 Output Shape              Param #   \n",
            "=================================================================\n",
            "dense (Dense)                (None, 4)                 16        \n",
            "_________________________________________________________________\n",
            "dense_1 (Dense)              (None, 4)                 20        \n",
            "_________________________________________________________________\n",
            "dense_2 (Dense)              (None, 1)                 5         \n",
            "=================================================================\n",
            "Total params: 41\n",
            "Trainable params: 41\n",
            "Non-trainable params: 0\n",
            "_________________________________________________________________\n"
          ],
          "name": "stdout"
        }
      ]
    },
    {
      "cell_type": "markdown",
      "metadata": {
        "id": "BfD3Rg8ev7cO"
      },
      "source": [
        "# Tutoriel MNIST (Course Part2)"
      ]
    },
    {
      "cell_type": "code",
      "metadata": {
        "id": "kXmCJLomwAkc"
      },
      "source": [
        "import keras\n",
        "from keras.datasets import mnist\n",
        "from keras.models import Sequential\n",
        "from keras.layers import Dense, Dropout\n",
        "from keras.optimizers import RMSprop, Adam\n",
        "import matplotlib.pyplot as plt"
      ],
      "execution_count": null,
      "outputs": []
    },
    {
      "cell_type": "markdown",
      "metadata": {
        "id": "Cfu71yeayiQb"
      },
      "source": [
        "charger la base de données MNIST"
      ]
    },
    {
      "cell_type": "code",
      "metadata": {
        "id": "u-rq6b3uwcwV",
        "colab": {
          "base_uri": "https://localhost:8080/",
          "height": 50
        },
        "outputId": "cf1c725d-1701-497a-9b43-c514aee7814b"
      },
      "source": [
        "# the data, split between train and test sets\n",
        "(x_train, y_train), (x_test, y_test) = mnist.load_data()"
      ],
      "execution_count": null,
      "outputs": [
        {
          "output_type": "stream",
          "text": [
            "Downloading data from https://s3.amazonaws.com/img-datasets/mnist.npz\n",
            "11493376/11490434 [==============================] - 1s 0us/step\n"
          ],
          "name": "stdout"
        }
      ]
    },
    {
      "cell_type": "code",
      "metadata": {
        "id": "hab3eg6vxEca",
        "colab": {
          "base_uri": "https://localhost:8080/",
          "height": 166
        },
        "outputId": "c5ffe27e-bba0-4222-f836-85561116c463"
      },
      "source": [
        "randindices=np.random.randint(x_train.shape[0],size=3)\n",
        "plt.figure()\n",
        "plt.subplot(1,3,1)\n",
        "plt.imshow(x_train[randindices[0],:,:])\n",
        "plt.subplot(1,3,2)\n",
        "plt.imshow(x_train[randindices[1],:,:])\n",
        "plt.subplot(1,3,3)\n",
        "plt.imshow(x_train[randindices[2],:,:])"
      ],
      "execution_count": null,
      "outputs": [
        {
          "output_type": "execute_result",
          "data": {
            "text/plain": [
              "<matplotlib.image.AxesImage at 0x7f7a4885e860>"
            ]
          },
          "metadata": {
            "tags": []
          },
          "execution_count": 5
        },
        {
          "output_type": "display_data",
          "data": {
            "image/png": "[encoded data removed]",
            "text/plain": [
              "<Figure size 432x288 with 3 Axes>"
            ]
          },
          "metadata": {
            "tags": [],
            "needs_background": "light"
          }
        }
      ]
    },
    {
      "cell_type": "code",
      "metadata": {
        "id": "-8tpJqVuxXLN",
        "colab": {
          "base_uri": "https://localhost:8080/",
          "height": 34
        },
        "outputId": "824e5e25-67e7-4166-c33d-1bb0c6e14b57"
      },
      "source": [
        "print(y_train[randindices[0]],y_train[randindices[1]],y_train[randindices[2]])"
      ],
      "execution_count": null,
      "outputs": [
        {
          "output_type": "stream",
          "text": [
            "8 1 0\n"
          ],
          "name": "stdout"
        }
      ]
    },
    {
      "cell_type": "code",
      "metadata": {
        "id": "3apLDrZ_ybN5",
        "colab": {
          "base_uri": "https://localhost:8080/",
          "height": 1000
        },
        "outputId": "a7bbd3c6-1e81-4b27-92d5-db796d9c2908"
      },
      "source": [
        "x_train[randindices[0],:,:]"
      ],
      "execution_count": null,
      "outputs": [
        {
          "output_type": "execute_result",
          "data": {
            "text/plain": [
              "array([[  0,   0,   0,   0,   0,   0,   0,   0,   0,   0,   0,   0,   0,\n",
              "          0,   0,   0,   0,   0,   0,   0,   0,   0,   0,   0,   0,   0,\n",
              "          0,   0],\n",
              "       [  0,   0,   0,   0,   0,   0,   0,   0,   0,   0,   0,   0,   0,\n",
              "          0,   0,   0,   0,   0,   0,   0,   0,   0,   0,   0,   0,   0,\n",
              "          0,   0],\n",
              "       [  0,   0,   0,   0,   0,   0,   0,   0,   0,   0,   0,   0,   0,\n",
              "          0,   0,   0,   0,   0,   0,   0,   0,   0,   0,   0,   0,   0,\n",
              "          0,   0],\n",
              "       [  0,   0,   0,   0,   0,   0,   0,   0,   0,   0,   0,   0,   0,\n",
              "          0,   0,   0,   0,   0,   0,   0,   0,   0,   0,   0,   0,   0,\n",
              "          0,   0],\n",
              "       [  0,   0,   0,   0,   0,   0,   0,   0,   0,   0,   0,   0,   0,\n",
              "          0,   0,   0,   0,   0,   0,   0,   0,   0,   0,   0,   0,   0,\n",
              "          0,   0],\n",
              "       [  0,   0,   0,   0,   0,   0,   0,   0,   0,   0,   0,   0,   0,\n",
              "         31, 131, 174, 254, 254, 254, 188,  40,   0,   0,   0,   0,   0,\n",
              "          0,   0],\n",
              "       [  0,   0,   0,   0,   0,   0,   0,   0,   0,   0,   0,  61, 182,\n",
              "        234, 253, 253, 253, 253, 253, 253, 211,   0,   0,   0,   0,   0,\n",
              "          0,   0],\n",
              "       [  0,   0,   0,   0,   0,   0,   0,   0,   0,  31, 133, 245, 253,\n",
              "        253, 253, 253, 253, 253, 253, 253, 170,  65, 157, 164,   6,   0,\n",
              "          0,   0],\n",
              "       [  0,   0,   0,   0,   0,   0,   0,   0,   6, 209, 253, 253, 253,\n",
              "        253, 253, 214, 133, 133, 133, 174, 201, 253, 254, 253,   9,   0,\n",
              "          0,   0],\n",
              "       [  0,   0,   0,   0,   0,   0,   0,   0, 133, 253, 253, 253, 228,\n",
              "        163,  79,   2,   0,   0, 109, 227, 253, 253, 253, 162,   3,   0,\n",
              "          0,   0],\n",
              "       [  0,   0,   0,   0,   0,   0,   0,  10, 245, 253, 253, 238,  44,\n",
              "          0,   0,   0,   1, 117, 250, 253, 253, 253, 159,   7,   0,   0,\n",
              "          0,   0],\n",
              "       [  0,   0,   0,   0,   0,   0,   0,  11, 253, 253, 253, 234,  24,\n",
              "          0,   0,   0, 150, 253, 253, 253, 245, 137,   6,   0,   0,   0,\n",
              "          0,   0],\n",
              "       [  0,   0,   0,   0,   0,   0,   0,   1, 154, 253, 253, 253, 176,\n",
              "         18,  15, 197, 251, 253, 253, 242, 115,   0,   0,   0,   0,   0,\n",
              "          0,   0],\n",
              "       [  0,   0,   0,   0,   0,   0,   0,   0,  65, 253, 253, 253, 253,\n",
              "        221, 217, 253, 253, 253, 248,  76,   0,   0,   0,   0,   0,   0,\n",
              "          0,   0],\n",
              "       [  0,   0,   0,   0,   0,   0,   0,   0,   2, 200, 253, 253, 253,\n",
              "        253, 253, 253, 253, 222,  74,   0,   0,   0,   0,   0,   0,   0,\n",
              "          0,   0],\n",
              "       [  0,   0,   0,   0,   0,   0,   0,   0,   0,  32, 221, 253, 253,\n",
              "        253, 253, 253, 251,  56,   0,   0,   0,   0,   0,   0,   0,   0,\n",
              "          0,   0],\n",
              "       [  0,   0,   0,   0,   0,   0,   0,   0,   0,   0, 135, 253, 253,\n",
              "        253, 253, 253, 250,  23,   0,   0,   0,   0,   0,   0,   0,   0,\n",
              "          0,   0],\n",
              "       [  0,   0,   0,   0,   0,   0,   0,   0,   0,  15, 210, 253, 253,\n",
              "        253, 253, 253, 253, 100,   0,   0,   0,   0,   0,   0,   0,   0,\n",
              "          0,   0],\n",
              "       [  0,   0,   0,   0,   0,   0,   0,   0,   0, 186, 253, 253, 253,\n",
              "        253, 253, 253, 253, 234,  27,   0,   0,   0,   0,   0,   0,   0,\n",
              "          0,   0],\n",
              "       [  0,   0,   0,   0,   0,   0,   0,   1, 116, 250, 253, 253, 202,\n",
              "         70, 253, 253, 253, 254,  39,   0,   0,   0,   0,   0,   0,   0,\n",
              "          0,   0],\n",
              "       [  0,   0,   0,   0,   0,   0,   0,  11, 253, 253, 253, 201,  21,\n",
              "        103, 253, 253, 253, 253,  39,   0,   0,   0,   0,   0,   0,   0,\n",
              "          0,   0],\n",
              "       [  0,   0,   0,   0,   0,   0,   0,  11, 253, 254, 253, 244, 234,\n",
              "        252, 253, 253, 253, 184,   3,   0,   0,   0,   0,   0,   0,   0,\n",
              "          0,   0],\n",
              "       [  0,   0,   0,   0,   0,   0,   0,  11, 253, 253, 253, 253, 253,\n",
              "        253, 253, 253, 250,  24,   0,   0,   0,   0,   0,   0,   0,   0,\n",
              "          0,   0],\n",
              "       [  0,   0,   0,   0,   0,   0,   0,   9, 220, 254, 253, 253, 253,\n",
              "        253, 254, 150,  29,   0,   0,   0,   0,   0,   0,   0,   0,   0,\n",
              "          0,   0],\n",
              "       [  0,   0,   0,   0,   0,   0,   0,   0,  14, 227, 253, 253, 220,\n",
              "        138,  54,   1,   0,   0,   0,   0,   0,   0,   0,   0,   0,   0,\n",
              "          0,   0],\n",
              "       [  0,   0,   0,   0,   0,   0,   0,   0,   0,   0,   0,   0,   0,\n",
              "          0,   0,   0,   0,   0,   0,   0,   0,   0,   0,   0,   0,   0,\n",
              "          0,   0],\n",
              "       [  0,   0,   0,   0,   0,   0,   0,   0,   0,   0,   0,   0,   0,\n",
              "          0,   0,   0,   0,   0,   0,   0,   0,   0,   0,   0,   0,   0,\n",
              "          0,   0],\n",
              "       [  0,   0,   0,   0,   0,   0,   0,   0,   0,   0,   0,   0,   0,\n",
              "          0,   0,   0,   0,   0,   0,   0,   0,   0,   0,   0,   0,   0,\n",
              "          0,   0]], dtype=uint8)"
            ]
          },
          "metadata": {
            "tags": []
          },
          "execution_count": 7
        }
      ]
    },
    {
      "cell_type": "markdown",
      "metadata": {
        "id": "bi45ZNwyx-7Z"
      },
      "source": [
        "Aplatir les images et normalisation"
      ]
    },
    {
      "cell_type": "code",
      "metadata": {
        "id": "Rre-HlwdxDpE",
        "colab": {
          "base_uri": "https://localhost:8080/",
          "height": 50
        },
        "outputId": "e8110129-b434-4342-aa7d-ce0a2fcd9f58"
      },
      "source": [
        "x_train = x_train.reshape(60000, 784)\n",
        "x_test = x_test.reshape(10000, 784)\n",
        "x_train = x_train.astype('float32')\n",
        "x_test = x_test.astype('float32')\n",
        "x_train /= 255\n",
        "x_test /= 255\n",
        "print(x_train.shape[0], 'train samples')\n",
        "print(x_test.shape[0], 'test samples')"
      ],
      "execution_count": null,
      "outputs": [
        {
          "output_type": "stream",
          "text": [
            "60000 train samples\n",
            "10000 test samples\n"
          ],
          "name": "stdout"
        }
      ]
    },
    {
      "cell_type": "markdown",
      "metadata": {
        "id": "bdf_TSaTyxDh"
      },
      "source": [
        "convertir les classes en vecteurs binaires (categorical)"
      ]
    },
    {
      "cell_type": "code",
      "metadata": {
        "id": "SVW-sLCQywE6"
      },
      "source": [
        "num_classes = 10\n",
        "\n",
        "y_train = keras.utils.to_categorical(y_train, num_classes)\n",
        "y_test = keras.utils.to_categorical(y_test, num_classes)"
      ],
      "execution_count": null,
      "outputs": []
    },
    {
      "cell_type": "markdown",
      "metadata": {
        "id": "2Em4TRO2y_Jr"
      },
      "source": [
        "## entraînement d'un MLP"
      ]
    },
    {
      "cell_type": "code",
      "metadata": {
        "id": "MUEc96BBy6t-",
        "colab": {
          "base_uri": "https://localhost:8080/",
          "height": 386
        },
        "outputId": "d0b8ff31-a321-475f-c051-4dcd67e66ea9"
      },
      "source": [
        "model = Sequential()\n",
        "model.add(Dense(512, activation='relu', input_shape=(784,)))\n",
        "model.add(Dropout(0.3))\n",
        "model.add(Dense(256, activation='relu'))\n",
        "model.add(Dropout(0.3))\n",
        "model.add(Dense(128, activation='relu'))\n",
        "model.add(Dropout(0.3))\n",
        "model.add(Dense(num_classes, activation='softmax'))\n",
        "\n",
        "model.summary()"
      ],
      "execution_count": null,
      "outputs": [
        {
          "output_type": "stream",
          "text": [
            "Model: \"sequential_5\"\n",
            "_________________________________________________________________\n",
            "Layer (type)                 Output Shape              Param #   \n",
            "=================================================================\n",
            "dense_14 (Dense)             (None, 512)               401920    \n",
            "_________________________________________________________________\n",
            "dropout_10 (Dropout)         (None, 512)               0         \n",
            "_________________________________________________________________\n",
            "dense_15 (Dense)             (None, 256)               131328    \n",
            "_________________________________________________________________\n",
            "dropout_11 (Dropout)         (None, 256)               0         \n",
            "_________________________________________________________________\n",
            "dense_16 (Dense)             (None, 128)               32896     \n",
            "_________________________________________________________________\n",
            "dropout_12 (Dropout)         (None, 128)               0         \n",
            "_________________________________________________________________\n",
            "dense_17 (Dense)             (None, 10)                1290      \n",
            "=================================================================\n",
            "Total params: 567,434\n",
            "Trainable params: 567,434\n",
            "Non-trainable params: 0\n",
            "_________________________________________________________________\n"
          ],
          "name": "stdout"
        }
      ]
    },
    {
      "cell_type": "code",
      "metadata": {
        "id": "MAMaMwbMzFYa"
      },
      "source": [
        "model.compile(loss='categorical_crossentropy',\n",
        "              optimizer=Adam(lr=1e-3),\n",
        "              metrics=['accuracy'])"
      ],
      "execution_count": null,
      "outputs": []
    },
    {
      "cell_type": "code",
      "metadata": {
        "id": "5y13FO-wwdc8"
      },
      "source": [
        "batch_size = 128\n",
        "epochs = 20"
      ],
      "execution_count": null,
      "outputs": []
    },
    {
      "cell_type": "code",
      "metadata": {
        "id": "nvYsXcE1zIgx",
        "colab": {
          "base_uri": "https://localhost:8080/",
          "height": 726
        },
        "outputId": "7203a83f-10c7-4e40-cf92-c8d76a8ee29c"
      },
      "source": [
        "history = model.fit(x_train, y_train,\n",
        "                    batch_size=batch_size,\n",
        "                    epochs=epochs,\n",
        "                    verbose=1,\n",
        "                    validation_data=(x_test, y_test))"
      ],
      "execution_count": null,
      "outputs": [
        {
          "output_type": "stream",
          "text": [
            "Train on 60000 samples, validate on 10000 samples\n",
            "Epoch 1/20\n",
            "60000/60000 [==============================] - 8s 134us/step - loss: 0.3509 - accuracy: 0.8940 - val_loss: 0.1251 - val_accuracy: 0.9603\n",
            "Epoch 2/20\n",
            "60000/60000 [==============================] - 8s 132us/step - loss: 0.1465 - accuracy: 0.9567 - val_loss: 0.0897 - val_accuracy: 0.9722\n",
            "Epoch 3/20\n",
            "60000/60000 [==============================] - 8s 131us/step - loss: 0.1065 - accuracy: 0.9688 - val_loss: 0.1022 - val_accuracy: 0.9678\n",
            "Epoch 4/20\n",
            "60000/60000 [==============================] - 8s 130us/step - loss: 0.0894 - accuracy: 0.9730 - val_loss: 0.0707 - val_accuracy: 0.9784\n",
            "Epoch 5/20\n",
            "60000/60000 [==============================] - 8s 134us/step - loss: 0.0769 - accuracy: 0.9765 - val_loss: 0.0716 - val_accuracy: 0.9788\n",
            "Epoch 6/20\n",
            "60000/60000 [==============================] - 8s 130us/step - loss: 0.0654 - accuracy: 0.9804 - val_loss: 0.0701 - val_accuracy: 0.9799\n",
            "Epoch 7/20\n",
            "60000/60000 [==============================] - 8s 131us/step - loss: 0.0572 - accuracy: 0.9828 - val_loss: 0.0618 - val_accuracy: 0.9815\n",
            "Epoch 8/20\n",
            "60000/60000 [==============================] - 8s 130us/step - loss: 0.0518 - accuracy: 0.9839 - val_loss: 0.0655 - val_accuracy: 0.9816\n",
            "Epoch 9/20\n",
            "60000/60000 [==============================] - 8s 133us/step - loss: 0.0479 - accuracy: 0.9856 - val_loss: 0.0609 - val_accuracy: 0.9832\n",
            "Epoch 10/20\n",
            "60000/60000 [==============================] - 8s 133us/step - loss: 0.0451 - accuracy: 0.9858 - val_loss: 0.0630 - val_accuracy: 0.9854\n",
            "Epoch 11/20\n",
            "60000/60000 [==============================] - 8s 130us/step - loss: 0.0416 - accuracy: 0.9868 - val_loss: 0.0655 - val_accuracy: 0.9817\n",
            "Epoch 12/20\n",
            "60000/60000 [==============================] - 8s 131us/step - loss: 0.0395 - accuracy: 0.9875 - val_loss: 0.0611 - val_accuracy: 0.9842\n",
            "Epoch 13/20\n",
            "60000/60000 [==============================] - 8s 132us/step - loss: 0.0386 - accuracy: 0.9881 - val_loss: 0.0661 - val_accuracy: 0.9830\n",
            "Epoch 14/20\n",
            "60000/60000 [==============================] - 8s 133us/step - loss: 0.0337 - accuracy: 0.9888 - val_loss: 0.0670 - val_accuracy: 0.9831\n",
            "Epoch 15/20\n",
            "60000/60000 [==============================] - 8s 133us/step - loss: 0.0316 - accuracy: 0.9899 - val_loss: 0.0708 - val_accuracy: 0.9834\n",
            "Epoch 16/20\n",
            "60000/60000 [==============================] - 8s 133us/step - loss: 0.0321 - accuracy: 0.9902 - val_loss: 0.0629 - val_accuracy: 0.9847\n",
            "Epoch 17/20\n",
            "60000/60000 [==============================] - 8s 131us/step - loss: 0.0292 - accuracy: 0.9905 - val_loss: 0.0737 - val_accuracy: 0.9835\n",
            "Epoch 18/20\n",
            "60000/60000 [==============================] - 8s 130us/step - loss: 0.0289 - accuracy: 0.9913 - val_loss: 0.0657 - val_accuracy: 0.9830\n",
            "Epoch 19/20\n",
            "60000/60000 [==============================] - 8s 129us/step - loss: 0.0284 - accuracy: 0.9914 - val_loss: 0.0627 - val_accuracy: 0.9845\n",
            "Epoch 20/20\n",
            "60000/60000 [==============================] - 8s 129us/step - loss: 0.0285 - accuracy: 0.9911 - val_loss: 0.0670 - val_accuracy: 0.9843\n"
          ],
          "name": "stdout"
        }
      ]
    },
    {
      "cell_type": "code",
      "metadata": {
        "id": "ObADUeDG0-av",
        "colab": {
          "base_uri": "https://localhost:8080/",
          "height": 282
        },
        "outputId": "7331cbc9-38cf-498c-b765-a74ad47fafc2"
      },
      "source": [
        "plt.plot(history.history['loss'], label='train')\n",
        "plt.plot(history.history['val_loss'], label='val')\n",
        "plt.legend()"
      ],
      "execution_count": null,
      "outputs": [
        {
          "output_type": "execute_result",
          "data": {
            "text/plain": [
              "<matplotlib.legend.Legend at 0x7f7a41c9ef60>"
            ]
          },
          "metadata": {
            "tags": []
          },
          "execution_count": 38
        },
        {
          "output_type": "display_data",
          "data": {
            "image/png": "[encoded data removed]",
            "text/plain": [
              "<Figure size 432x288 with 1 Axes>"
            ]
          },
          "metadata": {
            "tags": [],
            "needs_background": "light"
          }
        }
      ]
    },
    {
      "cell_type": "markdown",
      "metadata": {
        "id": "Cd3bT8GO0BwM"
      },
      "source": [
        "score sur toute la base de données de test"
      ]
    },
    {
      "cell_type": "code",
      "metadata": {
        "id": "2JQgv788zlp1",
        "colab": {
          "base_uri": "https://localhost:8080/",
          "height": 50
        },
        "outputId": "0f5bc547-6d9b-48fa-f607-e1be81972ed3"
      },
      "source": [
        "score = model.evaluate(x_test, y_test, verbose=0)\n",
        "print('Test loss:', score[0])\n",
        "print('Test accuracy:', score[1])"
      ],
      "execution_count": null,
      "outputs": [
        {
          "output_type": "stream",
          "text": [
            "Test loss: 0.06699622124313614\n",
            "Test accuracy: 0.9843000173568726\n"
          ],
          "name": "stdout"
        }
      ]
    },
    {
      "cell_type": "markdown",
      "metadata": {
        "id": "bOvNRqWz0I5F"
      },
      "source": [
        "regardons le résultat sur quelques images de test"
      ]
    },
    {
      "cell_type": "code",
      "metadata": {
        "id": "0mKIIBBezwba",
        "colab": {
          "base_uri": "https://localhost:8080/",
          "height": 166
        },
        "outputId": "628fb521-c25b-486d-ff8d-452752d21086"
      },
      "source": [
        "randindices=np.random.randint(x_test.shape[0],size=3)\n",
        "plt.figure()\n",
        "plt.subplot(1,3,1)\n",
        "plt.imshow(np.reshape(x_test[randindices[0],:],(28,28)), cmap='gray')\n",
        "plt.subplot(1,3,2)\n",
        "plt.imshow(np.reshape(x_test[randindices[1],:],(28,28)), cmap='gray')\n",
        "plt.subplot(1,3,3)\n",
        "plt.imshow(np.reshape(x_test[randindices[2],:],(28,28)), cmap='gray')"
      ],
      "execution_count": null,
      "outputs": [
        {
          "output_type": "execute_result",
          "data": {
            "text/plain": [
              "<matplotlib.image.AxesImage at 0x7f7a405e62b0>"
            ]
          },
          "metadata": {
            "tags": []
          },
          "execution_count": 40
        },
        {
          "output_type": "display_data",
          "data": {
            "image/png": "[encoded data removed]",
            "text/plain": [
              "<Figure size 432x288 with 3 Axes>"
            ]
          },
          "metadata": {
            "tags": [],
            "needs_background": "light"
          }
        }
      ]
    },
    {
      "cell_type": "code",
      "metadata": {
        "id": "sf3tl7fpzwfs",
        "colab": {
          "base_uri": "https://localhost:8080/",
          "height": 67
        },
        "outputId": "b3918fa1-d103-43eb-f944-482ff26369d9"
      },
      "source": [
        "predictions=model.predict(x_test)\n",
        "print(\"Le réseau reconnaît le chiffre \"+ str(np.argmax(predictions[randindices[0],:])) + ' avec une confiance ' + str(np.max(predictions[randindices[0],:]) * 100) + '%.')\n",
        "print(\"Le réseau reconnaît le chiffre \"+ str(np.argmax(predictions[randindices[1],:])) + ' avec une confiance ' + str(np.max(predictions[randindices[1],:]) * 100) + '%.')\n",
        "print(\"Le réseau reconnaît le chiffre \"+ str(np.argmax(predictions[randindices[2],:])) + ' avec une confiance ' + str(np.max(predictions[randindices[2],:]) * 100) + '%.')"
      ],
      "execution_count": null,
      "outputs": [
        {
          "output_type": "stream",
          "text": [
            "Le réseau reconnaît le chiffre 5 avec une confiance 99.99990463256836%.\n",
            "Le réseau reconnaît le chiffre 0 avec une confiance 55.70092797279358%.\n",
            "Le réseau reconnaît le chiffre 9 avec une confiance 100.0%.\n"
          ],
          "name": "stdout"
        }
      ]
    }
  ]
}